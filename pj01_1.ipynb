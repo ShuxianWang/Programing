{
 "cells": [
  {
   "cell_type": "code",
   "execution_count": 2,
   "metadata": {
    "collapsed": false
   },
   "outputs": [
    {
     "name": "stdout",
     "output_type": "stream",
     "text": [
      "from math import sqrt\r\n",
      "def is_prime(n):\r\n",
      "    if n==1:\r\n",
      "        return False\r\n",
      "    for i in range(2,int(sqrt(n))+1):\r\n",
      "        if n%i == 0:\r\n",
      "            return False\r\n",
      "    return True\r\n",
      "\r\n",
      "if __name__ =='__main__':\r\n",
      "    n=1000000\r\n",
      "    s=0\r\n",
      "    for i in range(1000,n+1):\r\n",
      "        if is_prime(i)*is_prime(i+2):\r\n",
      "            s= s + 1\r\n",
      "    print('The total number of twim primes between 1 thousand and 1 million is %d',s)"
     ]
    }
   ],
   "source": [
    "%cat pj01_1.py"
   ]
  },
  {
   "cell_type": "code",
   "execution_count": 3,
   "metadata": {
    "collapsed": false
   },
   "outputs": [
   ],
   "source": [
    "%run pj01_1.py"
   ]
  },
  {
   "cell_type": "code",
   "execution_count": 0,
   "metadata": {
    "collapsed": false
   },
   "outputs": [
   ],
   "source": [
   ]
  }
 ],
 "metadata": {
  "kernelspec": {
   "display_name": "Python 3 (Anaconda 5)",
   "language": "python",
   "name": "anaconda5"
  }
 },
 "nbformat": 4,
 "nbformat_minor": 0
}
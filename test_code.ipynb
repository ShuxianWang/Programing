{
 "cells": [
  {
   "cell_type": "markdown",
   "metadata": {
    "collapsed": false
   },
   "source": [
    "## Codes for problem1(2)"
   ]
  },
  {
   "cell_type": "code",
   "execution_count": 19,
   "metadata": {
    "collapsed": false
   },
   "outputs": [
    {
     "name": "stdout",
     "output_type": "stream",
     "text": [
      "import math\r\n",
      "import numpy as np\r\n",
      "import matplotlib.pyplot as plt\r\n",
      "import scipy.stats as ss\r\n",
      "\r\n",
      "\r\n",
      "\r\n",
      "def d1f(St, K, t, T, r, sigma):\r\n",
      "    ''' Black-Scholes-Merton d1 function.\r\n",
      "        Parameters see e.g. BSM_call_value function. '''\r\n",
      "    d1 = (math.log(St / K) + (r + 0.5 * sigma ** 2)\r\n",
      "          * (T - t)) / (sigma * math.sqrt(T - t))\r\n",
      "    return d1\r\n",
      "\r\n",
      "\r\n",
      "#\r\n",
      "# Valuation Functions\r\n",
      "#\r\n",
      "\r\n",
      "def BSM_call_value(St, K, t, T, r, sigma):\r\n",
      "    ''' Calculates Black-Scholes-Merton European call option value.\r\n",
      "\r\n",
      "    Parameters\r\n",
      "    ==========\r\n",
      "    St : float\r\n",
      "        stock/index level at time t\r\n",
      "    K : float\r\n",
      "        strike price\r\n",
      "    t : float\r\n",
      "        valuation date\r\n",
      "    T : float\r\n",
      "        date of maturity/time-to-maturity if t = 0; T > t\r\n",
      "    r : float\r\n",
      "        constant, risk-less short rate\r\n",
      "    sigma : float\r\n",
      "        volatility\r\n",
      "\r\n",
      "    Returns\r\n",
      "    =======\r\n",
      "    call_value : float\r\n",
      "        European call present value at t\r\n",
      "    '''\r\n",
      "    d1 = d1f(St, K, t, T, r, sigma)\r\n",
      "    d2 = d1 - sigma * math.sqrt(T - t)\r\n",
      "    call_value = St * ss.norm.cdf(d1) - math.exp(-r * (T - t)) * K * ss.norm.cdf(d2)\r\n",
      "    return call_value\r\n",
      "\r\n",
      "\r\n",
      "def BSM_put_value(St, K, t, T, r, sigma):\r\n",
      "    ''' Calculates Black-Scholes-Merton European put option value.\r\n",
      "\r\n",
      "    Parameters\r\n",
      "    ==========\r\n",
      "    St : float\r\n",
      "        stock/index level at time t\r\n",
      "    K : float\r\n",
      "        strike price\r\n",
      "    t : float\r\n",
      "        valuation date\r\n",
      "    T : float\r\n",
      "        date of maturity/time-to-maturity if t = 0; T > t\r\n",
      "    r : float\r\n",
      "        constant, risk-less short rate\r\n",
      "    sigma : float\r\n",
      "        volatility\r\n",
      "\r\n",
      "    Returns\r\n",
      "    =======\r\n",
      "    put_value : float\r\n",
      "        European put present value at t\r\n",
      "    '''\r\n",
      "    put_value = BSM_call_value(St, K, t, T, r, sigma) \\\r\n",
      "        - St + math.exp(-r * (T - t)) * K\r\n",
      "    return put_value\r\n"
     ]
    }
   ],
   "source": [
    "%cat BSM_option_valuation.py"
   ]
  },
  {
   "cell_type": "code",
   "execution_count": 4,
   "metadata": {
    "collapsed": false
   },
   "outputs": [
    {
     "name": "stdout",
     "output_type": "stream",
     "text": [
      "import math\r\n",
      "import numpy as np\r\n",
      "import matplotlib as mpl\r\n",
      "import matplotlib.pyplot as plt\r\n",
      "mpl.rcParams['font.family'] = 'serif'\r\n",
      "from BSM_option_valuation import BSM_put_value\r\n",
      "\r\n",
      "\r\n",
      "\r\n",
      "# Valuation Function\r\n",
      "def CRR_option_value(S0, K, T, r, sigma, otype, M=2):\r\n",
      "    ''' Cox-Ross-Rubinstein European option valuation.\r\n",
      "    Parameters\r\n",
      "    ==========\r\n",
      "    S0 : float\r\n",
      "        stock/index level at time 0\r\n",
      "    K : float\r\n",
      "        strike price\r\n",
      "    T : float\r\n",
      "        date of maturity\r\n",
      "    r : float\r\n",
      "        constant, risk-less short rate\r\n",
      "    sigma : float\r\n",
      "        volatility\r\n",
      "    otype : string\r\n",
      "        either 'call' or 'put'\r\n",
      "    M : int\r\n",
      "        number of time intervals\r\n",
      "    '''\r\n",
      "    # Time Parameters\r\n",
      "    dt = T / M  # length of time interval\r\n",
      "    df = math.exp(-r * dt)  # discount per interval\r\n",
      "\r\n",
      "    # Binomial Parameters\r\n",
      "    u = math.exp(sigma * math.sqrt(dt))  # up movement\r\n",
      "    d = 1 / u  # down movement\r\n",
      "    q = (math.exp(r * dt) - d) / (u - d)  # martingale branch probability\r\n",
      "\r\n",
      "    # Array Initialization for Index Levels\r\n",
      "    mu = np.arange(M + 1)\r\n",
      "    mu = np.resize(mu, (M + 1, M + 1))\r\n",
      "    md = np.transpose(mu)\r\n",
      "    mu = u ** (mu - md)\r\n",
      "    md = d ** md\r\n",
      "    S = S0 * mu * md\r\n",
      "\r\n",
      "    # Inner Values\r\n",
      "    if otype == 'call':\r\n",
      "        V = np.maximum(S - K, 0)  # inner values for European call option\r\n",
      "    else:\r\n",
      "        V = np.maximum(K - S, 0)  # inner values for European put option\r\n",
      "\r\n",
      "    z = 0\r\n",
      "    for t in range(M - 1, -1, -1):  # backwards iteration\r\n",
      "        V[0:M - z, t] = (q * V[0:M - z, t + 1] +\r\n",
      "                         (1 - q) * V[1:M - z + 1, t + 1]) * df\r\n",
      "        z += 1\r\n",
      "    return V[0, 0]\r\n"
     ]
    }
   ],
   "source": [
    "%cat CRR_option_valuation.py"
   ]
  },
  {
   "cell_type": "code",
   "execution_count": 5,
   "metadata": {
    "collapsed": false
   },
   "outputs": [
   ],
   "source": [
    "%run CRR_option_valuation.py"
   ]
  },
  {
   "cell_type": "code",
   "execution_count": 6,
   "metadata": {
    "collapsed": false
   },
   "outputs": [
   ],
   "source": [
    "S0 = 50.0  # index level\n",
    "K = 50.0  # option strike\n",
    "T = 0.5  # maturity date\n",
    "r = 0.05  # risk-less short rate\n",
    "sigma = 0.3"
   ]
  },
  {
   "cell_type": "code",
   "execution_count": 9,
   "metadata": {
    "collapsed": false
   },
   "outputs": [
   ],
   "source": [
    "CRR_put=CRR_option_value(S0, K, T, r, sigma, 'put', M=2)"
   ]
  },
  {
   "cell_type": "code",
   "execution_count": 10,
   "metadata": {
    "collapsed": false
   },
   "outputs": [
    {
     "data": {
      "text/plain": [
       "3.1051473412967003"
      ]
     },
     "execution_count": 10,
     "metadata": {
     },
     "output_type": "execute_result"
    }
   ],
   "source": [
    "CRR_put"
   ]
  },
  {
   "cell_type": "markdown",
   "metadata": {
    "collapsed": false
   },
   "source": [
    "## codes for problem1(3)"
   ]
  },
  {
   "cell_type": "code",
   "execution_count": 18,
   "metadata": {
    "collapsed": false
   },
   "outputs": [
    {
     "name": "stdout",
     "output_type": "stream",
     "text": [
      "\r\n",
      "\r\n",
      "from scipy import optimize\r\n",
      "from BSM_option_valuation import *\r\n",
      "\r\n",
      "def IVolBsm(S0, K, T, r, P0):\r\n",
      "    \"\"\"\r\n",
      "    Inputs:\r\n",
      "        S0: spot price\r\n",
      "        K: strike\r\n",
      "        T: time to maturity in year\r\n",
      "        r: rate\r\n",
      "        P0: market price\r\n",
      "    Outputs:\r\n",
      "        Implied volatility\r\n",
      "    \"\"\"\r\n",
      "    InitVol = .3\r\n",
      "    error = lambda sigma: (BSM_put_value(S0, K, 0, T, r, sigma) - P0)**2\r\n",
      "    opt = optimize.fmin(error, InitVol);\r\n",
      "    return opt[0]\r\n",
      "\r\n",
      "if __name__ == \"__main__\":\r\n",
      "    print('Implied volatility is', IVolBsm(50, 50, 0.5, .05, CRR_put))\r\n"
     ]
    }
   ],
   "source": [
    "%cat ImpliedVolatility.py"
   ]
  },
  {
   "cell_type": "code",
   "execution_count": 20,
   "metadata": {
    "collapsed": false
   },
   "outputs": [
   ],
   "source": [
    "import numpy as np\n",
    "from ImpliedVolatility import IVolBsm\n",
    "from BSM_option_valuation import *"
   ]
  },
  {
   "cell_type": "code",
   "execution_count": 15,
   "metadata": {
    "collapsed": false
   },
   "outputs": [
    {
     "name": "stdout",
     "output_type": "stream",
     "text": [
      "Optimization terminated successfully.\n",
      "         Current function value: 0.000000\n",
      "         Iterations: 14\n",
      "         Function evaluations: 28\n",
      "Implied volatility is 0.175137\n"
     ]
    }
   ],
   "source": [
    "#print('Implied volatility is %f' %IVolBsm(S0, K, T, r,CRR_put))"
   ]
  },
  {
   "cell_type": "code",
   "execution_count": 21,
   "metadata": {
    "collapsed": false
   },
   "outputs": [
    {
     "name": "stdout",
     "output_type": "stream",
     "text": [
      "Optimization terminated successfully.\n",
      "         Current function value: 0.000000\n",
      "         Iterations: 14\n",
      "         Function evaluations: 28\n",
      "Implied volatility is 0.17513671874999964\n"
     ]
    }
   ],
   "source": [
    "if __name__ == \"__main__\":\n",
    "    print('Implied volatility is', IVolBsm(50, 50, 0.5, .05, CRR_put))"
   ]
  },
  {
   "cell_type": "markdown",
   "metadata": {
    "collapsed": false
   },
   "source": [
    "## codes for problem 2"
   ]
  },
  {
   "cell_type": "code",
   "execution_count": 34,
   "metadata": {
    "collapsed": false
   },
   "outputs": [
    {
     "name": "stdout",
     "output_type": "stream",
     "text": [
      "\r\n",
      "\r\n",
      "import numpy as np\r\n",
      "from scipy import stats\r\n",
      "from scipy.stats import norm\r\n",
      "import matplotlib.pyplot as plt\r\n",
      "import seaborn as sns\r\n",
      "sns.set_style('white')\r\n",
      "sns.set_context('talk')\r\n",
      "\r\n",
      "#area of the bounding box\r\n",
      "box_area = 4.0    \r\n",
      "\r\n",
      "#number of samples\r\n",
      "N_total = 10*10*4\r\n",
      "\r\n",
      "#drawing random points uniform between -1 and 1\r\n",
      "X = np.random.uniform(low=-1, high=1, size=N_total)  \r\n",
      "Y = np.random.uniform(low=-1, high=1, size=N_total)   \r\n",
      "\r\n",
      "# calculate the distance of the point from the center \r\n",
      "distance = np.sqrt(X**2+Y**2);  \r\n",
      " \r\n",
      "# check if point is inside the circle    \r\n",
      "is_point_inside = distance<1.0\r\n",
      "\r\n",
      "# sum up the hits inside the circle\r\n",
      "N_inside=np.sum(is_point_inside)\r\n",
      "\r\n",
      "# estimate the circle area\r\n",
      "circle_area = box_area * N_inside/N_total\r\n",
      "\r\n",
      "# text output\r\n",
      "print(\"Area of the circle = \", circle_area)\r\n",
      "print(\"pi = \", np.pi)"
     ]
    }
   ],
   "source": [
    "%cat estimationforpi.py"
   ]
  },
  {
   "cell_type": "code",
   "execution_count": 32,
   "metadata": {
    "collapsed": false
   },
   "outputs": [
    {
     "name": "stdout",
     "output_type": "stream",
     "text": [
      "Area of the circle =  3.18\n",
      "pi =  3.141592653589793\n"
     ]
    }
   ],
   "source": [
    "%run estimationforpi.py"
   ]
  },
  {
   "cell_type": "markdown",
   "metadata": {
    "collapsed": false
   },
   "source": [
    "## codes for problem 4"
   ]
  },
  {
   "cell_type": "code",
   "execution_count": 24,
   "metadata": {
    "collapsed": false
   },
   "outputs": [
   ],
   "source": [
    "import numpy as np\n",
    "from BSM_option_valuation import *\n",
    "from scipy import optimize\n",
    "\n",
    "def IVolBsm(S0, K, T, r, P0):\n",
    "    \"\"\"\n",
    "    Inputs:\n",
    "        S0: spot price\n",
    "        K: strike\n",
    "        T: time to maturity in year\n",
    "        r: rate\n",
    "        P0: market price\n",
    "    Outputs:\n",
    "        Implied volatility\n",
    "    \"\"\"\n",
    "    InitVol = .3\n",
    "    error = lambda sigma: (BSM_call_value(S0, K, 0, T, r, sigma) - P0)**2\n",
    "    opt = optimize.fmin(error, InitVol);\n",
    "    return opt[0]"
   ]
  },
  {
   "cell_type": "code",
   "execution_count": 25,
   "metadata": {
    "collapsed": false
   },
   "outputs": [
   ],
   "source": [
    "Today = np.datetime64('2018-10-08')\n",
    "Maturity = np.datetime64('2019-06-21')\n",
    "T = (Maturity - Today)/np.timedelta64(1,'D')/365 #time to maturity in year\n",
    "S0 = 30.27\n",
    "K = 30.\n",
    "r = .0264\n",
    "Call = 2.70"
   ]
  },
  {
   "cell_type": "markdown",
   "metadata": {
    "collapsed": false
   },
   "source": [
    "The answer for (1)"
   ]
  },
  {
   "cell_type": "code",
   "execution_count": 26,
   "metadata": {
    "collapsed": false
   },
   "outputs": [
    {
     "name": "stdout",
     "output_type": "stream",
     "text": [
      "The difference of computed call value and market value is 1.239309\n"
     ]
    }
   ],
   "source": [
    "call_value = BSM_call_value(S0, K, 0, T, r, sigma=0.1)\n",
    "print('The difference of computed call value and market value is %f' %np.abs(call_value - Call))"
   ]
  },
  {
   "cell_type": "markdown",
   "metadata": {
    "collapsed": false
   },
   "source": [
    "The answer for (2)"
   ]
  },
  {
   "cell_type": "code",
   "execution_count": 27,
   "metadata": {
    "collapsed": false
   },
   "outputs": [
    {
     "name": "stdout",
     "output_type": "stream",
     "text": [
      "Optimization terminated successfully.\n",
      "         Current function value: 0.000000\n",
      "         Iterations: 12\n",
      "         Function evaluations: 24\n",
      "Implied volatility is 0.227520\n"
     ]
    }
   ],
   "source": [
    "print('Implied volatility is %f' %IVolBsm(S0, K, T, r, Call))"
   ]
  },
  {
   "cell_type": "code",
   "execution_count": 0,
   "metadata": {
    "collapsed": false
   },
   "outputs": [
   ],
   "source": [
   ]
  }
 ],
 "metadata": {
  "kernelspec": {
   "display_name": "Python 3 (Anaconda 5)",
   "language": "python",
   "name": "anaconda5"
  }
 },
 "nbformat": 4,
 "nbformat_minor": 0
}
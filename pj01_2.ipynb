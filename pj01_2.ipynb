{
 "cells": [
  {
   "cell_type": "code",
   "execution_count": 1,
   "metadata": {
    "collapsed": false
   },
   "outputs": [
    {
     "name": "stdout",
     "output_type": "stream",
     "text": [
      "from math import sqrt\r\n",
      "import sys\r\n",
      "def is_prime(n):\r\n",
      "    if n==1:\r\n",
      "        return False\r\n",
      "    for i in range(2,int(sqrt(n))+1):\r\n",
      "        if n%i == 0:\r\n",
      "            return False\r\n",
      "    return True\r\n",
      "\r\n",
      "if __name__ =='__main__':\r\n",
      "    i=sys.maxsize\r\n",
      "    while i>2:\r\n",
      "        if is_prime(i-2)*is_prime(i):\r\n",
      "            print(i,i-2)\r\n",
      "            break\r\n",
      "        i=i-1"
     ]
    }
   ],
   "source": [
    "%cat pj01_2.py"
   ]
  },
  {
   "cell_type": "code",
   "execution_count": 2,
   "metadata": {
    "collapsed": false
   },
   "outputs": [
   ],
   "source": [
    "%run pj01_2.py"
   ]
  },
  {
   "cell_type": "code",
   "execution_count": 0,
   "metadata": {
    "collapsed": false
   },
   "outputs": [
   ],
   "source": [
   ]
  }
 ],
 "metadata": {
  "kernelspec": {
   "display_name": "Python 3 (Anaconda 5)",
   "language": "python",
   "name": "anaconda5"
  }
 },
 "nbformat": 4,
 "nbformat_minor": 0
}